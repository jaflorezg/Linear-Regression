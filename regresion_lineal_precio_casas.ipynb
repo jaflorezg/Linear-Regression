{
 "cells": [
  {
   "cell_type": "markdown",
   "id": "ea911494",
   "metadata": {},
   "source": [
    "# Estimar el precio de una casa según sus metros cuadrados"
   ]
  },
  {
   "cell_type": "markdown",
   "id": "95996a03",
   "metadata": {},
   "source": [
    "Un portal inmobiliario quiere ayudar a sus usuarios a estimar el precio de casas según su tamaño."
   ]
  },
  {
   "cell_type": "code",
   "execution_count": 1,
   "id": "d5b51bd9",
   "metadata": {},
   "outputs": [
    {
     "name": "stderr",
     "output_type": "stream",
     "text": [
      "C:\\Users\\florezj\\AppData\\Roaming\\Python\\Python39\\site-packages\\pandas\\core\\computation\\expressions.py:21: UserWarning: Pandas requires version '2.8.0' or newer of 'numexpr' (version '2.7.3' currently installed).\n",
      "  from pandas.core.computation.check import NUMEXPR_INSTALLED\n",
      "C:\\Users\\florezj\\AppData\\Roaming\\Python\\Python39\\site-packages\\pandas\\core\\arrays\\masked.py:62: UserWarning: Pandas requires version '1.3.4' or newer of 'bottleneck' (version '1.3.2' currently installed).\n",
      "  from pandas.core import (\n",
      "c:\\Users\\florezj\\Anaconda3\\lib\\site-packages\\scipy\\__init__.py:146: UserWarning: A NumPy version >=1.16.5 and <1.23.0 is required for this version of SciPy (detected version 1.26.2\n",
      "  warnings.warn(f\"A NumPy version >={np_minversion} and <{np_maxversion}\"\n"
     ]
    }
   ],
   "source": [
    "# regresion_lineal_precio_casas.py\n",
    "import pandas as pd\n",
    "from sklearn.linear_model import LinearRegression"
   ]
  },
  {
   "cell_type": "code",
   "execution_count": 2,
   "id": "016e11c9",
   "metadata": {},
   "outputs": [
    {
     "data": {
      "text/plain": [
       "LinearRegression()"
      ]
     },
     "execution_count": 2,
     "metadata": {},
     "output_type": "execute_result"
    }
   ],
   "source": [
    "# Datos de ejemplo\n",
    "data = pd.DataFrame({\n",
    "    'metros_cuadrados': [50, 60, 80, 100, 120],\n",
    "    'precio': [100000, 120000, 160000, 200000, 240000]\n",
    "})\n",
    "\n",
    "X = data[['metros_cuadrados']]\n",
    "y = data['precio']\n",
    "\n",
    "modelo = LinearRegression()\n",
    "modelo.fit(X, y)"
   ]
  },
  {
   "cell_type": "code",
   "execution_count": 3,
   "id": "5f13b9d6",
   "metadata": {},
   "outputs": [
    {
     "name": "stdout",
     "output_type": "stream",
     "text": [
      "Precio estimado para una casa de 90 m2: $180,000\n"
     ]
    }
   ],
   "source": [
    "# Predicción\n",
    "metros_nueva_casa = [[90]]\n",
    "precio_estimado = modelo.predict(metros_nueva_casa)\n",
    "print(f\"Precio estimado para una casa de 90 m2: ${precio_estimado[0]:,.0f}\")\n"
   ]
  },
  {
   "cell_type": "code",
   "execution_count": 5,
   "id": "ab778227",
   "metadata": {},
   "outputs": [
    {
     "name": "stdout",
     "output_type": "stream",
     "text": [
      "Precio estimado para una casa de 70 m2: $140,000\n"
     ]
    }
   ],
   "source": [
    "# Predicción\n",
    "metros_nueva_casa = [[70]]\n",
    "precio_estimado = modelo.predict(metros_nueva_casa)\n",
    "print(f\"Precio estimado para una casa de 70 m2: ${precio_estimado[0]:,.0f}\")\n"
   ]
  },
  {
   "cell_type": "code",
   "execution_count": 6,
   "id": "ebf9854e",
   "metadata": {},
   "outputs": [
    {
     "name": "stdout",
     "output_type": "stream",
     "text": [
      "Precio estimado para una casa de 200 m2: $400,000\n"
     ]
    }
   ],
   "source": [
    "# Predicción\n",
    "metros_nueva_casa = [[200]]\n",
    "precio_estimado = modelo.predict(metros_nueva_casa)\n",
    "print(f\"Precio estimado para una casa de 200 m2: ${precio_estimado[0]:,.0f}\")\n"
   ]
  }
 ],
 "metadata": {
  "kernelspec": {
   "display_name": "base",
   "language": "python",
   "name": "python3"
  },
  "language_info": {
   "codemirror_mode": {
    "name": "ipython",
    "version": 3
   },
   "file_extension": ".py",
   "mimetype": "text/x-python",
   "name": "python",
   "nbconvert_exporter": "python",
   "pygments_lexer": "ipython3",
   "version": "3.9.7"
  }
 },
 "nbformat": 4,
 "nbformat_minor": 5
}
