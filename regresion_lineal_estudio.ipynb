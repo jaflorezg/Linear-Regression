{
 "cells": [
  {
   "cell_type": "markdown",
   "id": "ea911494",
   "metadata": {},
   "source": [
    "# Predecir calificaciones según horas de estudio"
   ]
  },
  {
   "cell_type": "markdown",
   "id": "95996a03",
   "metadata": {},
   "source": [
    "Un docente quiere estimar cuántas horas necesita estudiar un alumno para aprobar."
   ]
  },
  {
   "cell_type": "code",
   "execution_count": 2,
   "id": "d5b51bd9",
   "metadata": {},
   "outputs": [],
   "source": [
    "# regresion_lineal_estudio.py\n",
    "import pandas as pd\n",
    "from sklearn.linear_model import LinearRegression"
   ]
  },
  {
   "cell_type": "code",
   "execution_count": 3,
   "id": "016e11c9",
   "metadata": {},
   "outputs": [
    {
     "data": {
      "text/plain": [
       "LinearRegression()"
      ]
     },
     "execution_count": 3,
     "metadata": {},
     "output_type": "execute_result"
    }
   ],
   "source": [
    "# Datos de ejemplo\n",
    "data = pd.DataFrame({\n",
    "    'horas_estudio': [1, 2, 3, 4, 5, 6],\n",
    "    'nota': [50, 55, 65, 70, 75, 80]\n",
    "})\n",
    "\n",
    "X = data[['horas_estudio']]\n",
    "y = data['nota']\n",
    "\n",
    "modelo = LinearRegression()\n",
    "modelo.fit(X, y)"
   ]
  },
  {
   "cell_type": "code",
   "execution_count": 4,
   "id": "5f13b9d6",
   "metadata": {},
   "outputs": [
    {
     "name": "stdout",
     "output_type": "stream",
     "text": [
      "Nota esperada con 7 horas de estudio: 87.3\n"
     ]
    }
   ],
   "source": [
    "# Predicción\n",
    "horas = [[7]]\n",
    "nota_esperada = modelo.predict(horas)\n",
    "print(f\"Nota esperada con 7 horas de estudio: {nota_esperada[0]:.1f}\")"
   ]
  },
  {
   "cell_type": "code",
   "execution_count": 5,
   "id": "ab778227",
   "metadata": {},
   "outputs": [
    {
     "name": "stdout",
     "output_type": "stream",
     "text": [
      "Nota esperada con 2 horas de estudio: 56.6\n"
     ]
    }
   ],
   "source": [
    "# Predicción\n",
    "horas = [[2]]\n",
    "nota_esperada = modelo.predict(horas)\n",
    "print(f\"Nota esperada con 2 horas de estudio: {nota_esperada[0]:.1f}\")"
   ]
  },
  {
   "cell_type": "code",
   "execution_count": 6,
   "id": "ebf9854e",
   "metadata": {},
   "outputs": [
    {
     "name": "stdout",
     "output_type": "stream",
     "text": [
      "Nota esperada con 20 horas de estudio: 167.2\n"
     ]
    }
   ],
   "source": [
    "# Predicción\n",
    "horas = [[20]]\n",
    "nota_esperada = modelo.predict(horas)\n",
    "print(f\"Nota esperada con 20 horas de estudio: {nota_esperada[0]:.1f}\")"
   ]
  }
 ],
 "metadata": {
  "kernelspec": {
   "display_name": "base",
   "language": "python",
   "name": "python3"
  },
  "language_info": {
   "codemirror_mode": {
    "name": "ipython",
    "version": 3
   },
   "file_extension": ".py",
   "mimetype": "text/x-python",
   "name": "python",
   "nbconvert_exporter": "python",
   "pygments_lexer": "ipython3",
   "version": "3.9.7"
  }
 },
 "nbformat": 4,
 "nbformat_minor": 5
}
